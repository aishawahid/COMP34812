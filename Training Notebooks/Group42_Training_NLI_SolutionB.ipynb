{
  "nbformat": 4,
  "nbformat_minor": 0,
  "metadata": {
    "colab": {
      "provenance": [],
      "gpuType": "T4"
    },
    "kernelspec": {
      "name": "python3",
      "display_name": "Python 3"
    },
    "language_info": {
      "name": "python"
    },
    "accelerator": "GPU"
  },
  "cells": [
    {
      "cell_type": "markdown",
      "source": [
        "#Group 42 - COMP34812\n"
      ],
      "metadata": {
        "id": "qL_j7TAAZtCh"
      }
    },
    {
      "cell_type": "markdown",
      "source": [
        "**Task A :** Natural Language Inference (NLI)\n",
        "\n",
        "Given a premise and a hypothesis, determine if the hypothesis is true based on the premise. You will be given more than 26K premise-hypothesis pairs as training data, and more than 6K pairs as validation data.\n",
        "\n",
        "**Solution B :** Deep learning-based approaches that do not employ transformer architectures\n",
        "\n",
        "*Our final model used an ensemble approach where predictions from 4 models LSTM, GRU, BiLSTM and BiGRU are combined using soft voting. Pre-trained GloVe embeddings were used. These models were trained on the dataset.*\n",
        "\n",
        "**Group 42 :** Aisha Wahid & Libby Walton"
      ],
      "metadata": {
        "id": "BCe1G481vjyh"
      }
    },
    {
      "cell_type": "markdown",
      "source": [
        "Libraries"
      ],
      "metadata": {
        "id": "BtiBU2O09jxj"
      }
    },
    {
      "cell_type": "code",
      "source": [
        "import tensorflow as tf\n",
        "import pandas as pd\n",
        "import re\n",
        "import nltk\n",
        "from nltk.corpus import stopwords\n",
        "from nltk.stem import WordNetLemmatizer\n",
        "import numpy as np\n",
        "from tensorflow.keras.utils import to_categorical\n",
        "from tensorflow.keras.preprocessing.sequence import pad_sequences\n",
        "import tempfile\n",
        "from tensorflow.keras.models import Model\n",
        "from tensorflow.keras.optimizers.legacy import RMSprop\n",
        "from tensorflow.keras.optimizers import Adam, SGD\n",
        "from tensorflow.keras.regularizers import l2\n",
        "from tensorflow.keras.layers import Input, Embedding, Dense, Dropout, TimeDistributed\n",
        "from tensorflow.keras.layers import BatchNormalization, Bidirectional, LSTM, concatenate, GRU\n",
        "from tensorflow.keras.callbacks import EarlyStopping, ModelCheckpoint, ReduceLROnPlateau\n",
        "from sklearn.metrics import f1_score, recall_score, precision_score, classification_report, accuracy_score\n",
        "import matplotlib.pyplot as plt"
      ],
      "metadata": {
        "id": "3w2O2wKy9K4l"
      },
      "execution_count": 1,
      "outputs": []
    },
    {
      "cell_type": "markdown",
      "source": [
        "## Prepare"
      ],
      "metadata": {
        "id": "80DjTQVmZUS5"
      }
    },
    {
      "cell_type": "markdown",
      "source": [
        "### Load Dataset"
      ],
      "metadata": {
        "id": "2HTCP0L3v-9G"
      }
    },
    {
      "cell_type": "code",
      "execution_count": 2,
      "metadata": {
        "id": "QBfI1164Y-62"
      },
      "outputs": [],
      "source": [
        "train_df = pd.read_csv('/content/drive/MyDrive/train.csv')\n",
        "dev_df = pd.read_csv('/content/drive/MyDrive/dev.csv')\n",
        "dev_df['hypothesis'] = dev_df['hypothesis'].astype(str)"
      ]
    },
    {
      "cell_type": "code",
      "source": [
        "train_df['corpus'] = train_df['premise'] + ' [SEP] ' + train_df['hypothesis']\n",
        "dev_df['corpus'] = dev_df['premise'] + ' [SEP] ' + dev_df['hypothesis']"
      ],
      "metadata": {
        "id": "zltaaz0caBJa"
      },
      "execution_count": 18,
      "outputs": []
    },
    {
      "cell_type": "markdown",
      "source": [
        "### Preprocessing - reduces the performance so not included"
      ],
      "metadata": {
        "id": "_tP3OAumZl_r"
      }
    },
    {
      "cell_type": "code",
      "source": [
        "'''nltk.download('stopwords')\n",
        "stop_words = set(stopwords.words('english'))\n",
        "nltk.download('wordnet')\n",
        "lemmatizer = WordNetLemmatizer()\n",
        "\n",
        "def preprocess(column):\n",
        "  column = column.str.lower()\n",
        "  column = column.str.replace(r'[^\\w\\s]', '', regex=True)\n",
        "  column = column.apply(lambda x: ' '.join([word for word in x.split() if word not in (stop_words)]))\n",
        "  column =  column = column.apply(lambda x: ' '.join([lemmatizer.lemmatize(word) for word in x.split()]))\n",
        "  return column'''"
      ],
      "metadata": {
        "colab": {
          "base_uri": "https://localhost:8080/"
        },
        "id": "__XmVrHqHK4M",
        "outputId": "ea1c9b2c-5d54-4386-f56e-d3ad95d987f5"
      },
      "execution_count": null,
      "outputs": [
        {
          "output_type": "stream",
          "name": "stderr",
          "text": [
            "[nltk_data] Downloading package stopwords to /root/nltk_data...\n",
            "[nltk_data]   Package stopwords is already up-to-date!\n",
            "[nltk_data] Downloading package wordnet to /root/nltk_data...\n",
            "[nltk_data]   Package wordnet is already up-to-date!\n"
          ]
        }
      ]
    },
    {
      "cell_type": "code",
      "source": [
        "train_df['hypothesis'] = preprocess(train_df['hypothesis'])\n",
        "train_df['premise'] = preprocess(train_df['premise'])"
      ],
      "metadata": {
        "colab": {
          "base_uri": "https://localhost:8080/",
          "height": 424
        },
        "id": "gk91HceyKkdn",
        "outputId": "d3fc93d6-28d1-4cd1-ab0c-327c26f73998"
      },
      "execution_count": null,
      "outputs": [
        {
          "output_type": "execute_result",
          "data": {
            "text/plain": [
              "                                                 premise  \\\n",
              "0      However, Fort Charles was rebuilt as a militar...   \n",
              "1      Buchanan's  The Democrats and Republicans have...   \n",
              "2      In order to review an acquisition that is usin...   \n",
              "3      Three young people sit outside and engage with...   \n",
              "4      The lucrative tin mines of Kuala Lumpur in the...   \n",
              "...                                                  ...   \n",
              "26939  Information in agencies' plans and reports pro...   \n",
              "26940  He is the Mr. Magoo of scientific theory, geni...   \n",
              "26941  Over the past 25 years, the Postal Service has...   \n",
              "26942  Whoever first stepped ashore on Madeira discov...   \n",
              "26943  But I admit that when a drum and bugle corps m...   \n",
              "\n",
              "                                              hypothesis  label  \n",
              "0      fort charles wa rebuilt a an amusement park fo...      0  \n",
              "1                        the party will never be similar      0  \n",
              "2      the auditor only review the acquisition itself...      0  \n",
              "3                there is a tin can and string telephone      0  \n",
              "4      the chinese labor wa seen a le costly and more...      1  \n",
              "...                                                  ...    ...  \n",
              "26939  thanks to agency plan and report over 30 billi...      0  \n",
              "26940              he understands everything he cant see      0  \n",
              "26941  classifying mail is important to the function ...      1  \n",
              "26942     the british discovered the canary island first      0  \n",
              "26943                           i hate the star war song      0  \n",
              "\n",
              "[26944 rows x 3 columns]"
            ],
            "text/html": [
              "\n",
              "  <div id=\"df-b6305edc-bebd-4e6e-b998-c3d5f8797720\" class=\"colab-df-container\">\n",
              "    <div>\n",
              "<style scoped>\n",
              "    .dataframe tbody tr th:only-of-type {\n",
              "        vertical-align: middle;\n",
              "    }\n",
              "\n",
              "    .dataframe tbody tr th {\n",
              "        vertical-align: top;\n",
              "    }\n",
              "\n",
              "    .dataframe thead th {\n",
              "        text-align: right;\n",
              "    }\n",
              "</style>\n",
              "<table border=\"1\" class=\"dataframe\">\n",
              "  <thead>\n",
              "    <tr style=\"text-align: right;\">\n",
              "      <th></th>\n",
              "      <th>premise</th>\n",
              "      <th>hypothesis</th>\n",
              "      <th>label</th>\n",
              "    </tr>\n",
              "  </thead>\n",
              "  <tbody>\n",
              "    <tr>\n",
              "      <th>0</th>\n",
              "      <td>However, Fort Charles was rebuilt as a militar...</td>\n",
              "      <td>fort charles wa rebuilt a an amusement park fo...</td>\n",
              "      <td>0</td>\n",
              "    </tr>\n",
              "    <tr>\n",
              "      <th>1</th>\n",
              "      <td>Buchanan's  The Democrats and Republicans have...</td>\n",
              "      <td>the party will never be similar</td>\n",
              "      <td>0</td>\n",
              "    </tr>\n",
              "    <tr>\n",
              "      <th>2</th>\n",
              "      <td>In order to review an acquisition that is usin...</td>\n",
              "      <td>the auditor only review the acquisition itself...</td>\n",
              "      <td>0</td>\n",
              "    </tr>\n",
              "    <tr>\n",
              "      <th>3</th>\n",
              "      <td>Three young people sit outside and engage with...</td>\n",
              "      <td>there is a tin can and string telephone</td>\n",
              "      <td>0</td>\n",
              "    </tr>\n",
              "    <tr>\n",
              "      <th>4</th>\n",
              "      <td>The lucrative tin mines of Kuala Lumpur in the...</td>\n",
              "      <td>the chinese labor wa seen a le costly and more...</td>\n",
              "      <td>1</td>\n",
              "    </tr>\n",
              "    <tr>\n",
              "      <th>...</th>\n",
              "      <td>...</td>\n",
              "      <td>...</td>\n",
              "      <td>...</td>\n",
              "    </tr>\n",
              "    <tr>\n",
              "      <th>26939</th>\n",
              "      <td>Information in agencies' plans and reports pro...</td>\n",
              "      <td>thanks to agency plan and report over 30 billi...</td>\n",
              "      <td>0</td>\n",
              "    </tr>\n",
              "    <tr>\n",
              "      <th>26940</th>\n",
              "      <td>He is the Mr. Magoo of scientific theory, geni...</td>\n",
              "      <td>he understands everything he cant see</td>\n",
              "      <td>0</td>\n",
              "    </tr>\n",
              "    <tr>\n",
              "      <th>26941</th>\n",
              "      <td>Over the past 25 years, the Postal Service has...</td>\n",
              "      <td>classifying mail is important to the function ...</td>\n",
              "      <td>1</td>\n",
              "    </tr>\n",
              "    <tr>\n",
              "      <th>26942</th>\n",
              "      <td>Whoever first stepped ashore on Madeira discov...</td>\n",
              "      <td>the british discovered the canary island first</td>\n",
              "      <td>0</td>\n",
              "    </tr>\n",
              "    <tr>\n",
              "      <th>26943</th>\n",
              "      <td>But I admit that when a drum and bugle corps m...</td>\n",
              "      <td>i hate the star war song</td>\n",
              "      <td>0</td>\n",
              "    </tr>\n",
              "  </tbody>\n",
              "</table>\n",
              "<p>26944 rows × 3 columns</p>\n",
              "</div>\n",
              "    <div class=\"colab-df-buttons\">\n",
              "\n",
              "  <div class=\"colab-df-container\">\n",
              "    <button class=\"colab-df-convert\" onclick=\"convertToInteractive('df-b6305edc-bebd-4e6e-b998-c3d5f8797720')\"\n",
              "            title=\"Convert this dataframe to an interactive table.\"\n",
              "            style=\"display:none;\">\n",
              "\n",
              "  <svg xmlns=\"http://www.w3.org/2000/svg\" height=\"24px\" viewBox=\"0 -960 960 960\">\n",
              "    <path d=\"M120-120v-720h720v720H120Zm60-500h600v-160H180v160Zm220 220h160v-160H400v160Zm0 220h160v-160H400v160ZM180-400h160v-160H180v160Zm440 0h160v-160H620v160ZM180-180h160v-160H180v160Zm440 0h160v-160H620v160Z\"/>\n",
              "  </svg>\n",
              "    </button>\n",
              "\n",
              "  <style>\n",
              "    .colab-df-container {\n",
              "      display:flex;\n",
              "      gap: 12px;\n",
              "    }\n",
              "\n",
              "    .colab-df-convert {\n",
              "      background-color: #E8F0FE;\n",
              "      border: none;\n",
              "      border-radius: 50%;\n",
              "      cursor: pointer;\n",
              "      display: none;\n",
              "      fill: #1967D2;\n",
              "      height: 32px;\n",
              "      padding: 0 0 0 0;\n",
              "      width: 32px;\n",
              "    }\n",
              "\n",
              "    .colab-df-convert:hover {\n",
              "      background-color: #E2EBFA;\n",
              "      box-shadow: 0px 1px 2px rgba(60, 64, 67, 0.3), 0px 1px 3px 1px rgba(60, 64, 67, 0.15);\n",
              "      fill: #174EA6;\n",
              "    }\n",
              "\n",
              "    .colab-df-buttons div {\n",
              "      margin-bottom: 4px;\n",
              "    }\n",
              "\n",
              "    [theme=dark] .colab-df-convert {\n",
              "      background-color: #3B4455;\n",
              "      fill: #D2E3FC;\n",
              "    }\n",
              "\n",
              "    [theme=dark] .colab-df-convert:hover {\n",
              "      background-color: #434B5C;\n",
              "      box-shadow: 0px 1px 3px 1px rgba(0, 0, 0, 0.15);\n",
              "      filter: drop-shadow(0px 1px 2px rgba(0, 0, 0, 0.3));\n",
              "      fill: #FFFFFF;\n",
              "    }\n",
              "  </style>\n",
              "\n",
              "    <script>\n",
              "      const buttonEl =\n",
              "        document.querySelector('#df-b6305edc-bebd-4e6e-b998-c3d5f8797720 button.colab-df-convert');\n",
              "      buttonEl.style.display =\n",
              "        google.colab.kernel.accessAllowed ? 'block' : 'none';\n",
              "\n",
              "      async function convertToInteractive(key) {\n",
              "        const element = document.querySelector('#df-b6305edc-bebd-4e6e-b998-c3d5f8797720');\n",
              "        const dataTable =\n",
              "          await google.colab.kernel.invokeFunction('convertToInteractive',\n",
              "                                                    [key], {});\n",
              "        if (!dataTable) return;\n",
              "\n",
              "        const docLinkHtml = 'Like what you see? Visit the ' +\n",
              "          '<a target=\"_blank\" href=https://colab.research.google.com/notebooks/data_table.ipynb>data table notebook</a>'\n",
              "          + ' to learn more about interactive tables.';\n",
              "        element.innerHTML = '';\n",
              "        dataTable['output_type'] = 'display_data';\n",
              "        await google.colab.output.renderOutput(dataTable, element);\n",
              "        const docLink = document.createElement('div');\n",
              "        docLink.innerHTML = docLinkHtml;\n",
              "        element.appendChild(docLink);\n",
              "      }\n",
              "    </script>\n",
              "  </div>\n",
              "\n",
              "\n",
              "<div id=\"df-76da6b02-cf45-4e3a-ac64-e95e6174488c\">\n",
              "  <button class=\"colab-df-quickchart\" onclick=\"quickchart('df-76da6b02-cf45-4e3a-ac64-e95e6174488c')\"\n",
              "            title=\"Suggest charts\"\n",
              "            style=\"display:none;\">\n",
              "\n",
              "<svg xmlns=\"http://www.w3.org/2000/svg\" height=\"24px\"viewBox=\"0 0 24 24\"\n",
              "     width=\"24px\">\n",
              "    <g>\n",
              "        <path d=\"M19 3H5c-1.1 0-2 .9-2 2v14c0 1.1.9 2 2 2h14c1.1 0 2-.9 2-2V5c0-1.1-.9-2-2-2zM9 17H7v-7h2v7zm4 0h-2V7h2v10zm4 0h-2v-4h2v4z\"/>\n",
              "    </g>\n",
              "</svg>\n",
              "  </button>\n",
              "\n",
              "<style>\n",
              "  .colab-df-quickchart {\n",
              "      --bg-color: #E8F0FE;\n",
              "      --fill-color: #1967D2;\n",
              "      --hover-bg-color: #E2EBFA;\n",
              "      --hover-fill-color: #174EA6;\n",
              "      --disabled-fill-color: #AAA;\n",
              "      --disabled-bg-color: #DDD;\n",
              "  }\n",
              "\n",
              "  [theme=dark] .colab-df-quickchart {\n",
              "      --bg-color: #3B4455;\n",
              "      --fill-color: #D2E3FC;\n",
              "      --hover-bg-color: #434B5C;\n",
              "      --hover-fill-color: #FFFFFF;\n",
              "      --disabled-bg-color: #3B4455;\n",
              "      --disabled-fill-color: #666;\n",
              "  }\n",
              "\n",
              "  .colab-df-quickchart {\n",
              "    background-color: var(--bg-color);\n",
              "    border: none;\n",
              "    border-radius: 50%;\n",
              "    cursor: pointer;\n",
              "    display: none;\n",
              "    fill: var(--fill-color);\n",
              "    height: 32px;\n",
              "    padding: 0;\n",
              "    width: 32px;\n",
              "  }\n",
              "\n",
              "  .colab-df-quickchart:hover {\n",
              "    background-color: var(--hover-bg-color);\n",
              "    box-shadow: 0 1px 2px rgba(60, 64, 67, 0.3), 0 1px 3px 1px rgba(60, 64, 67, 0.15);\n",
              "    fill: var(--button-hover-fill-color);\n",
              "  }\n",
              "\n",
              "  .colab-df-quickchart-complete:disabled,\n",
              "  .colab-df-quickchart-complete:disabled:hover {\n",
              "    background-color: var(--disabled-bg-color);\n",
              "    fill: var(--disabled-fill-color);\n",
              "    box-shadow: none;\n",
              "  }\n",
              "\n",
              "  .colab-df-spinner {\n",
              "    border: 2px solid var(--fill-color);\n",
              "    border-color: transparent;\n",
              "    border-bottom-color: var(--fill-color);\n",
              "    animation:\n",
              "      spin 1s steps(1) infinite;\n",
              "  }\n",
              "\n",
              "  @keyframes spin {\n",
              "    0% {\n",
              "      border-color: transparent;\n",
              "      border-bottom-color: var(--fill-color);\n",
              "      border-left-color: var(--fill-color);\n",
              "    }\n",
              "    20% {\n",
              "      border-color: transparent;\n",
              "      border-left-color: var(--fill-color);\n",
              "      border-top-color: var(--fill-color);\n",
              "    }\n",
              "    30% {\n",
              "      border-color: transparent;\n",
              "      border-left-color: var(--fill-color);\n",
              "      border-top-color: var(--fill-color);\n",
              "      border-right-color: var(--fill-color);\n",
              "    }\n",
              "    40% {\n",
              "      border-color: transparent;\n",
              "      border-right-color: var(--fill-color);\n",
              "      border-top-color: var(--fill-color);\n",
              "    }\n",
              "    60% {\n",
              "      border-color: transparent;\n",
              "      border-right-color: var(--fill-color);\n",
              "    }\n",
              "    80% {\n",
              "      border-color: transparent;\n",
              "      border-right-color: var(--fill-color);\n",
              "      border-bottom-color: var(--fill-color);\n",
              "    }\n",
              "    90% {\n",
              "      border-color: transparent;\n",
              "      border-bottom-color: var(--fill-color);\n",
              "    }\n",
              "  }\n",
              "</style>\n",
              "\n",
              "  <script>\n",
              "    async function quickchart(key) {\n",
              "      const quickchartButtonEl =\n",
              "        document.querySelector('#' + key + ' button');\n",
              "      quickchartButtonEl.disabled = true;  // To prevent multiple clicks.\n",
              "      quickchartButtonEl.classList.add('colab-df-spinner');\n",
              "      try {\n",
              "        const charts = await google.colab.kernel.invokeFunction(\n",
              "            'suggestCharts', [key], {});\n",
              "      } catch (error) {\n",
              "        console.error('Error during call to suggestCharts:', error);\n",
              "      }\n",
              "      quickchartButtonEl.classList.remove('colab-df-spinner');\n",
              "      quickchartButtonEl.classList.add('colab-df-quickchart-complete');\n",
              "    }\n",
              "    (() => {\n",
              "      let quickchartButtonEl =\n",
              "        document.querySelector('#df-76da6b02-cf45-4e3a-ac64-e95e6174488c button');\n",
              "      quickchartButtonEl.style.display =\n",
              "        google.colab.kernel.accessAllowed ? 'block' : 'none';\n",
              "    })();\n",
              "  </script>\n",
              "</div>\n",
              "    </div>\n",
              "  </div>\n"
            ],
            "application/vnd.google.colaboratory.intrinsic+json": {
              "type": "dataframe",
              "variable_name": "train_df",
              "summary": "{\n  \"name\": \"train_df\",\n  \"rows\": 26944,\n  \"fields\": [\n    {\n      \"column\": \"premise\",\n      \"properties\": {\n        \"dtype\": \"string\",\n        \"num_unique_values\": 25308,\n        \"samples\": [\n          \"and it's about Al Capone's brothers\",\n          \"The terms financial statements and consolidated financial statements are used throughout this document to refer to the basic financial statements of a reporting entity; the basic financial statements normally  the balance sheet, the statements of net cost, changes in financial position, financing, budgetary resources, and custodial activities and the notes to the financial statements.\",\n          \"You'll also discover L.A.'s large groups of Americans of Chinese, African, Korean, Middle Eastern, and Japanese descent.\"\n        ],\n        \"semantic_type\": \"\",\n        \"description\": \"\"\n      }\n    },\n    {\n      \"column\": \"hypothesis\",\n      \"properties\": {\n        \"dtype\": \"string\",\n        \"num_unique_values\": 26912,\n        \"samples\": [\n          \"democrat are replacing many republican because they were always very forceful in their approach\",\n          \"i am well educated about all public service program\",\n          \"after his service in the house hunt ran for clackamas county chair but ultimately lost\"\n        ],\n        \"semantic_type\": \"\",\n        \"description\": \"\"\n      }\n    },\n    {\n      \"column\": \"label\",\n      \"properties\": {\n        \"dtype\": \"number\",\n        \"std\": 0,\n        \"min\": 0,\n        \"max\": 1,\n        \"num_unique_values\": 2,\n        \"samples\": [\n          1,\n          0\n        ],\n        \"semantic_type\": \"\",\n        \"description\": \"\"\n      }\n    }\n  ]\n}"
            }
          },
          "metadata": {},
          "execution_count": 119
        }
      ]
    },
    {
      "cell_type": "markdown",
      "source": [
        "## Model Training"
      ],
      "metadata": {
        "id": "YeO5vgnRaT_m"
      }
    },
    {
      "cell_type": "markdown",
      "source": [
        "### Embeddings"
      ],
      "metadata": {
        "id": "hb_s5VRku8t8"
      }
    },
    {
      "cell_type": "markdown",
      "source": [
        "This code can be ran or the Glove tokenizer can be loaded from the link in the Google Drive"
      ],
      "metadata": {
        "id": "ZiVr8dXWC3i1"
      }
    },
    {
      "cell_type": "code",
      "source": [
        "# Load in the tokenizer generated in training from Glove embeddings\n",
        "import pickle\n",
        "with open('/content/drive/MyDrive/tokenizer.pkl', 'rb') as f:\n",
        "    tokenizer = pickle.load(f)"
      ],
      "metadata": {
        "id": "pHGMH0KRufcu"
      },
      "execution_count": 5,
      "outputs": []
    },
    {
      "cell_type": "code",
      "execution_count": 7,
      "metadata": {
        "colab": {
          "base_uri": "https://localhost:8080/"
        },
        "id": "b58IdfDcu_GK",
        "outputId": "b51d1f7f-8b3c-440f-fb60-5900b1fadb14"
      },
      "outputs": [
        {
          "output_type": "stream",
          "name": "stdout",
          "text": [
            "--2024-04-22 11:42:01--  http://nlp.stanford.edu/data/glove.840B.300d.zip\n",
            "Resolving nlp.stanford.edu (nlp.stanford.edu)... 171.64.67.140\n",
            "Connecting to nlp.stanford.edu (nlp.stanford.edu)|171.64.67.140|:80... connected.\n",
            "HTTP request sent, awaiting response... 302 Found\n",
            "Location: https://nlp.stanford.edu/data/glove.840B.300d.zip [following]\n",
            "--2024-04-22 11:42:01--  https://nlp.stanford.edu/data/glove.840B.300d.zip\n",
            "Connecting to nlp.stanford.edu (nlp.stanford.edu)|171.64.67.140|:443... connected.\n",
            "HTTP request sent, awaiting response... 301 Moved Permanently\n",
            "Location: https://downloads.cs.stanford.edu/nlp/data/glove.840B.300d.zip [following]\n",
            "--2024-04-22 11:42:01--  https://downloads.cs.stanford.edu/nlp/data/glove.840B.300d.zip\n",
            "Resolving downloads.cs.stanford.edu (downloads.cs.stanford.edu)... 171.64.64.22\n",
            "Connecting to downloads.cs.stanford.edu (downloads.cs.stanford.edu)|171.64.64.22|:443... connected.\n",
            "HTTP request sent, awaiting response... 200 OK\n",
            "Length: 2176768927 (2.0G) [application/zip]\n",
            "Saving to: ‘glove.840B.300d.zip’\n",
            "\n",
            "glove.840B.300d.zip 100%[===================>]   2.03G  5.00MB/s    in 6m 50s  \n",
            "\n",
            "2024-04-22 11:48:51 (5.07 MB/s) - ‘glove.840B.300d.zip’ saved [2176768927/2176768927]\n",
            "\n",
            "Archive:  glove.840B.300d.zip\n",
            "  inflating: glove.840B.300d.txt     \n",
            "total 7646864\n",
            "drwxr-xr-x 1 root root       4096 Apr 22 11:48 .\n",
            "-rw-r--r-- 1 root root    1480042 Apr 22 11:41 tokenizer.pkl\n",
            "-rw-r--r-- 1 root root    4702762 Apr 22 11:41 train.csv\n",
            "-rw-r--r-- 1 root root    1163301 Apr 22 11:40 dev.csv\n",
            "drwxr-xr-x 1 root root       4096 Apr 22 11:40 ..\n",
            "drwxr-xr-x 1 root root       4096 Apr 18 13:25 sample_data\n",
            "drwxr-xr-x 4 root root       4096 Apr 18 13:24 .config\n",
            "-rw-r--r-- 1 root root 2176768927 Oct 24  2015 glove.840B.300d.zip\n",
            "-rw-rw-r-- 1 root root 5646236541 Oct 24  2015 glove.840B.300d.txt\n"
          ]
        }
      ],
      "source": [
        "# Download the GloVe pre-trained word embeddings file (840B tokens, 300-dimensional vectors)\n",
        "!wget http://nlp.stanford.edu/data/glove.840B.300d.zip\n",
        "# Unzip the downloaded file\n",
        "!unzip glove.840B.300d.zip\n",
        "!ls -lat"
      ]
    },
    {
      "cell_type": "code",
      "execution_count": 36,
      "metadata": {
        "id": "IrbGkk2da0qS"
      },
      "outputs": [],
      "source": [
        "embedding_dict = {}\n",
        "# Open the GloVe embedding file\n",
        "glove_dir = 'glove.840B.300d.txt'\n",
        "file = open(glove_dir, encoding=\"utf8\")\n",
        "\n",
        "for line in file:\n",
        "    # Spilt the word and its embedding vector\n",
        "    line_list = line.split(' ')\n",
        "    word = line_list[0]\n",
        "    embeddings = np.asarray(line_list[1:], dtype='float32')\n",
        "\n",
        "    # Store the word and its embedding vector in a dictionary\n",
        "    embedding_dict[word] = embeddings\n",
        "\n",
        "file.close()"
      ]
    },
    {
      "cell_type": "code",
      "execution_count": 44,
      "metadata": {
        "id": "Y4ZZuHkMXmxZ"
      },
      "outputs": [],
      "source": [
        "# Initialize and fit Keras tokenizer to convert words to integers\n",
        "tokenizer = tf.keras.preprocessing.text.Tokenizer(num_words=20000)\n",
        "tokenizer.fit_on_texts(train_df['corpus'])\n",
        "\n",
        "# Get an word-integer dictionary and use that to create an weight matrix\n",
        "# i-th column of weight matrix will have the vector of word with integer value i in dictionary\n",
        "word_index = tokenizer.word_index\n",
        "embed_matrix = np.zeros((len(word_index) + 1, 300))\n",
        "\n",
        "for word, ind in word_index.items():\n",
        "    # Get the embedding vector from GloVe dictionary, if available\n",
        "    # Words not in the Glove would have the embedding matrix vector as random values uniformly generated between -0.05 and 0.05\n",
        "    embedding_vector = embedding_dict.get(word)\n",
        "\n",
        "    if embedding_vector is not None:\n",
        "        embed_matrix[ind] = embedding_vector\n",
        "    else:\n",
        "        embed_matrix[ind] = np.array([np.random.uniform(-0.05, 0.05) for _ in range(300)])"
      ]
    },
    {
      "cell_type": "code",
      "execution_count": 6,
      "metadata": {
        "id": "ZEmO5PJMjz5v"
      },
      "outputs": [],
      "source": [
        "# Pad and tokenize the training dataset\n",
        "labels = np.array(train_df['label'])\n",
        "premise = np.array(train_df['premise'])\n",
        "hypothesis = np.array(train_df['hypothesis'])\n",
        "data_converted = [premise, hypothesis, labels]"
      ]
    },
    {
      "cell_type": "code",
      "execution_count": 7,
      "metadata": {
        "id": "6yHWkTVMgrfU"
      },
      "outputs": [],
      "source": [
        "# Process the data to integer sequences and labels to one-hot labels\n",
        "sequence = lambda sentence: pad_sequences(tokenizer.texts_to_sequences(sentence), maxlen=84)\n",
        "process = lambda item: (sequence(item[0]), sequence(item[1]), to_categorical(item[2]))\n",
        "\n",
        "training_data = process(data_converted)"
      ]
    },
    {
      "cell_type": "code",
      "execution_count": 8,
      "metadata": {
        "id": "KrVZzDZTUyRk"
      },
      "outputs": [],
      "source": [
        "# Pad and tokenize the development dataset\n",
        "dev_labels = to_categorical(np.array(dev_df['label']))\n",
        "dev_premise = pad_sequences(tokenizer.texts_to_sequences(np.array(dev_df['premise'])), maxlen=84)\n",
        "dev_df['hypothesis'] = dev_df['hypothesis'].astype(str)\n",
        "dev_hypothesis = pad_sequences(tokenizer.texts_to_sequences(np.array(dev_df['hypothesis'])), maxlen=84)"
      ]
    },
    {
      "cell_type": "markdown",
      "source": [
        "### Training"
      ],
      "metadata": {
        "id": "-PWfRI8Svnca"
      }
    },
    {
      "cell_type": "markdown",
      "source": [
        "Training Function"
      ],
      "metadata": {
        "id": "42gMbUI1DUU9"
      }
    },
    {
      "cell_type": "code",
      "execution_count": 24,
      "metadata": {
        "id": "qjssSy3ffPHB"
      },
      "outputs": [],
      "source": [
        "def train_model(approach, bidirectional):\n",
        "  max_len = 84\n",
        "  embedding = Embedding(input_dim=embed_matrix.shape[0],\n",
        "                            output_dim=300,\n",
        "                            weights=[embed_matrix],\n",
        "                            input_length=84,\n",
        "                            trainable=False)\n",
        "\n",
        "  # Determine whether to use bidirectional layer or not\n",
        "  if (bidirectional == True):\n",
        "    layer = Bidirectional(approach)\n",
        "  else:\n",
        "    layer = approach\n",
        "\n",
        "  premise = Input(shape=(max_len,), dtype='int32')\n",
        "  hypothesis = Input(shape=(max_len,), dtype='int32')\n",
        "\n",
        "  premise_embedded = embedding(premise)\n",
        "  hypothesis_embedded = embedding(hypothesis)\n",
        "\n",
        "  premise_layer = layer(premise_embedded)\n",
        "  hypothesis_layer = layer(hypothesis_embedded)\n",
        "\n",
        "  premise_normalized = BatchNormalization()(premise_layer)\n",
        "  hypothesis_normalized = BatchNormalization()(hypothesis_layer)\n",
        "\n",
        "  train_input = concatenate([premise_normalized, hypothesis_normalized])\n",
        "  train_input = Dropout(0.2)(train_input)\n",
        "\n",
        "  train_input = Dense(100, activation='relu', kernel_regularizer=l2(1e-6))(train_input)\n",
        "  train_input = Dropout(0.2)(train_input)\n",
        "  train_input = BatchNormalization()(train_input)\n",
        "\n",
        "  prediction = Dense(2, activation='softmax')(train_input)\n",
        "\n",
        "  model = Model(inputs=[premise, hypothesis], outputs=prediction)\n",
        "\n",
        "  optimizer = RMSprop(lr=0.01, rho=0.9, epsilon=1e-08, decay=0.0)\n",
        "\n",
        "  model.compile(optimizer=optimizer, loss='categorical_crossentropy', metrics=['accuracy'])\n",
        "  model.summary()\n",
        "\n",
        "  learning_rate_reduction = ReduceLROnPlateau(monitor='val_accuracy',\n",
        "                                              patience=4,\n",
        "                                              verbose=1,\n",
        "                                              factor=0.5,\n",
        "                                              min_lr=0.00001)\n",
        "\n",
        "  early_stopping = EarlyStopping(monitor='val_loss',\n",
        "                                  patience=4)\n",
        "\n",
        "  _, tmpfn = tempfile.mkstemp()\n",
        "  model_checkpoint = ModelCheckpoint(tmpfn, save_best_only=True, save_weights_only=True)\n",
        "\n",
        "  callbacks = [early_stopping, model_checkpoint, learning_rate_reduction]\n",
        "\n",
        "  # Train the model\n",
        "  history = model.fit(x=[training_data[0], training_data[1]],\n",
        "                          y=training_data[2],\n",
        "                      batch_size=32,\n",
        "                      epochs=50,\n",
        "                      validation_data=([dev_premise, dev_hypothesis], dev_labels),\n",
        "                      callbacks=callbacks)\n",
        "  return model"
      ]
    },
    {
      "cell_type": "markdown",
      "source": [
        "Training LSTM"
      ],
      "metadata": {
        "id": "4VQLCfqTwO1-"
      }
    },
    {
      "cell_type": "code",
      "source": [
        "#Training the LSTM model\n",
        "lstm_model = train_model(LSTM(64), False)"
      ],
      "metadata": {
        "colab": {
          "base_uri": "https://localhost:8080/"
        },
        "id": "m1XU4M-zJjgw",
        "outputId": "42d01184-0fb6-461d-910e-a9c7014ec983"
      },
      "execution_count": 25,
      "outputs": [
        {
          "output_type": "stream",
          "name": "stdout",
          "text": [
            "Model: \"model_5\"\n",
            "__________________________________________________________________________________________________\n",
            " Layer (type)                Output Shape                 Param #   Connected to                  \n",
            "==================================================================================================\n",
            " input_11 (InputLayer)       [(None, 84)]                 0         []                            \n",
            "                                                                                                  \n",
            " input_12 (InputLayer)       [(None, 84)]                 0         []                            \n",
            "                                                                                                  \n",
            " embedding_5 (Embedding)     (None, 84, 300)              1101150   ['input_11[0][0]',            \n",
            "                                                          0          'input_12[0][0]']            \n",
            "                                                                                                  \n",
            " lstm_5 (LSTM)               (None, 64)                   93440     ['embedding_5[0][0]',         \n",
            "                                                                     'embedding_5[1][0]']         \n",
            "                                                                                                  \n",
            " batch_normalization_15 (Ba  (None, 64)                   256       ['lstm_5[0][0]']              \n",
            " tchNormalization)                                                                                \n",
            "                                                                                                  \n",
            " batch_normalization_16 (Ba  (None, 64)                   256       ['lstm_5[1][0]']              \n",
            " tchNormalization)                                                                                \n",
            "                                                                                                  \n",
            " concatenate_5 (Concatenate  (None, 128)                  0         ['batch_normalization_15[0][0]\n",
            " )                                                                  ',                            \n",
            "                                                                     'batch_normalization_16[0][0]\n",
            "                                                                    ']                            \n",
            "                                                                                                  \n",
            " dropout_10 (Dropout)        (None, 128)                  0         ['concatenate_5[0][0]']       \n",
            "                                                                                                  \n",
            " dense_10 (Dense)            (None, 100)                  12900     ['dropout_10[0][0]']          \n",
            "                                                                                                  \n",
            " dropout_11 (Dropout)        (None, 100)                  0         ['dense_10[0][0]']            \n",
            "                                                                                                  \n",
            " batch_normalization_17 (Ba  (None, 100)                  400       ['dropout_11[0][0]']          \n",
            " tchNormalization)                                                                                \n",
            "                                                                                                  \n",
            " dense_11 (Dense)            (None, 2)                    202       ['batch_normalization_17[0][0]\n",
            "                                                                    ']                            \n",
            "                                                                                                  \n",
            "==================================================================================================\n",
            "Total params: 11118954 (42.42 MB)\n",
            "Trainable params: 106998 (417.96 KB)\n",
            "Non-trainable params: 11011956 (42.01 MB)\n",
            "__________________________________________________________________________________________________\n",
            "Epoch 1/50\n",
            "842/842 [==============================] - 19s 17ms/step - loss: 0.6696 - accuracy: 0.6127 - val_loss: 0.6987 - val_accuracy: 0.6040 - lr: 0.0100\n",
            "Epoch 2/50\n",
            "842/842 [==============================] - 10s 12ms/step - loss: 0.6166 - accuracy: 0.6666 - val_loss: 0.6066 - val_accuracy: 0.6717 - lr: 0.0100\n",
            "Epoch 3/50\n",
            "842/842 [==============================] - 15s 18ms/step - loss: 0.5989 - accuracy: 0.6819 - val_loss: 0.6033 - val_accuracy: 0.6632 - lr: 0.0100\n",
            "Epoch 4/50\n",
            "842/842 [==============================] - 15s 17ms/step - loss: 0.5868 - accuracy: 0.6914 - val_loss: 0.5927 - val_accuracy: 0.6770 - lr: 0.0100\n",
            "Epoch 5/50\n",
            "842/842 [==============================] - 10s 12ms/step - loss: 0.5730 - accuracy: 0.7025 - val_loss: 0.6078 - val_accuracy: 0.6780 - lr: 0.0100\n",
            "Epoch 6/50\n",
            "842/842 [==============================] - 14s 16ms/step - loss: 0.5594 - accuracy: 0.7096 - val_loss: 0.5941 - val_accuracy: 0.6792 - lr: 0.0100\n",
            "Epoch 7/50\n",
            "842/842 [==============================] - 15s 18ms/step - loss: 0.5419 - accuracy: 0.7267 - val_loss: 0.6070 - val_accuracy: 0.6684 - lr: 0.0100\n",
            "Epoch 8/50\n",
            "842/842 [==============================] - 12s 15ms/step - loss: 0.5223 - accuracy: 0.7396 - val_loss: 0.6052 - val_accuracy: 0.6749 - lr: 0.0100\n"
          ]
        }
      ]
    },
    {
      "cell_type": "markdown",
      "source": [
        "Training GRU"
      ],
      "metadata": {
        "id": "CJDPoQ_HwWgf"
      }
    },
    {
      "cell_type": "code",
      "source": [
        "#Training the GRU model\n",
        "gru_model = train_model(GRU(64), False)"
      ],
      "metadata": {
        "colab": {
          "base_uri": "https://localhost:8080/"
        },
        "id": "LKe2UXnIOn9l",
        "outputId": "0f69190e-b6bd-4882-e616-ef8c60527c19"
      },
      "execution_count": null,
      "outputs": [
        {
          "output_type": "stream",
          "name": "stdout",
          "text": [
            "Model: \"model_9\"\n",
            "__________________________________________________________________________________________________\n",
            " Layer (type)                Output Shape                 Param #   Connected to                  \n",
            "==================================================================================================\n",
            " input_21 (InputLayer)       [(None, 84)]                 0         []                            \n",
            "                                                                                                  \n",
            " input_22 (InputLayer)       [(None, 84)]                 0         []                            \n",
            "                                                                                                  \n",
            " embedding_10 (Embedding)    (None, 84, 300)              1101120   ['input_21[0][0]',            \n",
            "                                                          0          'input_22[0][0]']            \n",
            "                                                                                                  \n",
            " gru_2 (GRU)                 (None, 64)                   70272     ['embedding_10[0][0]',        \n",
            "                                                                     'embedding_10[1][0]']        \n",
            "                                                                                                  \n",
            " batch_normalization_27 (Ba  (None, 64)                   256       ['gru_2[0][0]']               \n",
            " tchNormalization)                                                                                \n",
            "                                                                                                  \n",
            " batch_normalization_28 (Ba  (None, 64)                   256       ['gru_2[1][0]']               \n",
            " tchNormalization)                                                                                \n",
            "                                                                                                  \n",
            " concatenate_9 (Concatenate  (None, 128)                  0         ['batch_normalization_27[0][0]\n",
            " )                                                                  ',                            \n",
            "                                                                     'batch_normalization_28[0][0]\n",
            "                                                                    ']                            \n",
            "                                                                                                  \n",
            " dropout_18 (Dropout)        (None, 128)                  0         ['concatenate_9[0][0]']       \n",
            "                                                                                                  \n",
            " dense_18 (Dense)            (None, 100)                  12900     ['dropout_18[0][0]']          \n",
            "                                                                                                  \n",
            " dropout_19 (Dropout)        (None, 100)                  0         ['dense_18[0][0]']            \n",
            "                                                                                                  \n",
            " batch_normalization_29 (Ba  (None, 100)                  400       ['dropout_19[0][0]']          \n",
            " tchNormalization)                                                                                \n",
            "                                                                                                  \n",
            " dense_19 (Dense)            (None, 2)                    202       ['batch_normalization_29[0][0]\n",
            "                                                                    ']                            \n",
            "                                                                                                  \n",
            "==================================================================================================\n",
            "Total params: 11095486 (42.33 MB)\n",
            "Trainable params: 83830 (327.46 KB)\n",
            "Non-trainable params: 11011656 (42.01 MB)\n",
            "__________________________________________________________________________________________________\n"
          ]
        },
        {
          "output_type": "stream",
          "name": "stderr",
          "text": [
            "/usr/local/lib/python3.10/dist-packages/keras/src/optimizers/legacy/rmsprop.py:144: UserWarning: The `lr` argument is deprecated, use `learning_rate` instead.\n",
            "  super().__init__(name, **kwargs)\n"
          ]
        },
        {
          "output_type": "stream",
          "name": "stdout",
          "text": [
            "Epoch 1/50\n",
            "842/842 [==============================] - 21s 21ms/step - loss: 0.6585 - accuracy: 0.6231 - val_loss: 0.6167 - val_accuracy: 0.6570 - lr: 0.0100\n",
            "Epoch 2/50\n",
            "842/842 [==============================] - 19s 22ms/step - loss: 0.6107 - accuracy: 0.6622 - val_loss: 0.6040 - val_accuracy: 0.6657 - lr: 0.0100\n",
            "Epoch 3/50\n",
            "842/842 [==============================] - 23s 27ms/step - loss: 0.5985 - accuracy: 0.6766 - val_loss: 0.5953 - val_accuracy: 0.6654 - lr: 0.0100\n",
            "Epoch 4/50\n",
            "842/842 [==============================] - 24s 29ms/step - loss: 0.5875 - accuracy: 0.6843 - val_loss: 0.5865 - val_accuracy: 0.6813 - lr: 0.0100\n",
            "Epoch 5/50\n",
            "842/842 [==============================] - 21s 24ms/step - loss: 0.5800 - accuracy: 0.6913 - val_loss: 0.5907 - val_accuracy: 0.6666 - lr: 0.0100\n",
            "Epoch 6/50\n",
            "842/842 [==============================] - 21s 26ms/step - loss: 0.5770 - accuracy: 0.6973 - val_loss: 0.6018 - val_accuracy: 0.6840 - lr: 0.0100\n",
            "Epoch 7/50\n",
            "842/842 [==============================] - 27s 32ms/step - loss: 0.5708 - accuracy: 0.6982 - val_loss: 0.6220 - val_accuracy: 0.6562 - lr: 0.0100\n",
            "Epoch 8/50\n",
            "842/842 [==============================] - 20s 24ms/step - loss: 0.5673 - accuracy: 0.7052 - val_loss: 0.5914 - val_accuracy: 0.6815 - lr: 0.0100\n"
          ]
        }
      ]
    },
    {
      "cell_type": "markdown",
      "source": [
        "Training BiLSTM"
      ],
      "metadata": {
        "id": "1sj5G11WwX4N"
      }
    },
    {
      "cell_type": "code",
      "source": [
        "#Training the BiLSTM model\n",
        "bilstm_model = train_model(LSTM(64), True)"
      ],
      "metadata": {
        "colab": {
          "base_uri": "https://localhost:8080/"
        },
        "outputId": "eeac649f-d812-4fe9-ed66-f65b1c79c044",
        "id": "ruprfnW5Oqsd"
      },
      "execution_count": null,
      "outputs": [
        {
          "output_type": "stream",
          "name": "stdout",
          "text": [
            "Model: \"model_10\"\n",
            "__________________________________________________________________________________________________\n",
            " Layer (type)                Output Shape                 Param #   Connected to                  \n",
            "==================================================================================================\n",
            " input_23 (InputLayer)       [(None, 84)]                 0         []                            \n",
            "                                                                                                  \n",
            " input_24 (InputLayer)       [(None, 84)]                 0         []                            \n",
            "                                                                                                  \n",
            " embedding_11 (Embedding)    (None, 84, 300)              1101120   ['input_23[0][0]',            \n",
            "                                                          0          'input_24[0][0]']            \n",
            "                                                                                                  \n",
            " bidirectional_4 (Bidirecti  (None, 128)                  186880    ['embedding_11[0][0]',        \n",
            " onal)                                                               'embedding_11[1][0]']        \n",
            "                                                                                                  \n",
            " batch_normalization_30 (Ba  (None, 128)                  512       ['bidirectional_4[0][0]']     \n",
            " tchNormalization)                                                                                \n",
            "                                                                                                  \n",
            " batch_normalization_31 (Ba  (None, 128)                  512       ['bidirectional_4[1][0]']     \n",
            " tchNormalization)                                                                                \n",
            "                                                                                                  \n",
            " concatenate_10 (Concatenat  (None, 256)                  0         ['batch_normalization_30[0][0]\n",
            " e)                                                                 ',                            \n",
            "                                                                     'batch_normalization_31[0][0]\n",
            "                                                                    ']                            \n",
            "                                                                                                  \n",
            " dropout_20 (Dropout)        (None, 256)                  0         ['concatenate_10[0][0]']      \n",
            "                                                                                                  \n",
            " dense_20 (Dense)            (None, 100)                  25700     ['dropout_20[0][0]']          \n",
            "                                                                                                  \n",
            " dropout_21 (Dropout)        (None, 100)                  0         ['dense_20[0][0]']            \n",
            "                                                                                                  \n",
            " batch_normalization_32 (Ba  (None, 100)                  400       ['dropout_21[0][0]']          \n",
            " tchNormalization)                                                                                \n",
            "                                                                                                  \n",
            " dense_21 (Dense)            (None, 2)                    202       ['batch_normalization_32[0][0]\n",
            "                                                                    ']                            \n",
            "                                                                                                  \n",
            "==================================================================================================\n",
            "Total params: 11225406 (42.82 MB)\n",
            "Trainable params: 213494 (833.96 KB)\n",
            "Non-trainable params: 11011912 (42.01 MB)\n",
            "__________________________________________________________________________________________________\n"
          ]
        },
        {
          "output_type": "stream",
          "name": "stderr",
          "text": [
            "/usr/local/lib/python3.10/dist-packages/keras/src/optimizers/legacy/rmsprop.py:144: UserWarning: The `lr` argument is deprecated, use `learning_rate` instead.\n",
            "  super().__init__(name, **kwargs)\n"
          ]
        },
        {
          "output_type": "stream",
          "name": "stdout",
          "text": [
            "Epoch 1/50\n",
            "842/842 [==============================] - 43s 40ms/step - loss: 0.6651 - accuracy: 0.6129 - val_loss: 0.6549 - val_accuracy: 0.6409 - lr: 0.0100\n",
            "Epoch 2/50\n",
            "842/842 [==============================] - 23s 27ms/step - loss: 0.6134 - accuracy: 0.6611 - val_loss: 0.6169 - val_accuracy: 0.6541 - lr: 0.0100\n",
            "Epoch 3/50\n",
            "842/842 [==============================] - 23s 28ms/step - loss: 0.5980 - accuracy: 0.6777 - val_loss: 0.6086 - val_accuracy: 0.6729 - lr: 0.0100\n",
            "Epoch 4/50\n",
            "842/842 [==============================] - 23s 27ms/step - loss: 0.5873 - accuracy: 0.6872 - val_loss: 0.6062 - val_accuracy: 0.6650 - lr: 0.0100\n",
            "Epoch 5/50\n",
            "842/842 [==============================] - 23s 28ms/step - loss: 0.5747 - accuracy: 0.6996 - val_loss: 0.6332 - val_accuracy: 0.6614 - lr: 0.0100\n",
            "Epoch 6/50\n",
            "842/842 [==============================] - 23s 27ms/step - loss: 0.5610 - accuracy: 0.7074 - val_loss: 0.6100 - val_accuracy: 0.6589 - lr: 0.0100\n",
            "Epoch 7/50\n",
            "842/842 [==============================] - 25s 30ms/step - loss: 0.5447 - accuracy: 0.7212 - val_loss: 0.5882 - val_accuracy: 0.6795 - lr: 0.0100\n",
            "Epoch 8/50\n",
            "842/842 [==============================] - 23s 28ms/step - loss: 0.5309 - accuracy: 0.7324 - val_loss: 0.5998 - val_accuracy: 0.6818 - lr: 0.0100\n",
            "Epoch 9/50\n",
            "842/842 [==============================] - 24s 29ms/step - loss: 0.5110 - accuracy: 0.7471 - val_loss: 0.6118 - val_accuracy: 0.6767 - lr: 0.0100\n",
            "Epoch 10/50\n",
            "842/842 [==============================] - 24s 28ms/step - loss: 0.5014 - accuracy: 0.7585 - val_loss: 0.6293 - val_accuracy: 0.6577 - lr: 0.0100\n",
            "Epoch 11/50\n",
            "842/842 [==============================] - 25s 30ms/step - loss: 0.4834 - accuracy: 0.7644 - val_loss: 0.6089 - val_accuracy: 0.6767 - lr: 0.0100\n"
          ]
        }
      ]
    },
    {
      "cell_type": "markdown",
      "source": [
        "Training BiGRU"
      ],
      "metadata": {
        "id": "NhY6vug1waAV"
      }
    },
    {
      "cell_type": "code",
      "source": [
        "#Training the BiGRU model\n",
        "bigru_model = train_model(GRU(64), True)"
      ],
      "metadata": {
        "colab": {
          "base_uri": "https://localhost:8080/"
        },
        "id": "nDW2KNlIOqse",
        "outputId": "82d583b2-67da-4be2-e581-5a56a2096420"
      },
      "execution_count": null,
      "outputs": [
        {
          "output_type": "stream",
          "name": "stdout",
          "text": [
            "Model: \"model_11\"\n",
            "__________________________________________________________________________________________________\n",
            " Layer (type)                Output Shape                 Param #   Connected to                  \n",
            "==================================================================================================\n",
            " input_25 (InputLayer)       [(None, 84)]                 0         []                            \n",
            "                                                                                                  \n",
            " input_26 (InputLayer)       [(None, 84)]                 0         []                            \n",
            "                                                                                                  \n",
            " embedding_12 (Embedding)    (None, 84, 300)              1101120   ['input_25[0][0]',            \n",
            "                                                          0          'input_26[0][0]']            \n",
            "                                                                                                  \n",
            " bidirectional_5 (Bidirecti  (None, 128)                  140544    ['embedding_12[0][0]',        \n",
            " onal)                                                               'embedding_12[1][0]']        \n",
            "                                                                                                  \n",
            " batch_normalization_33 (Ba  (None, 128)                  512       ['bidirectional_5[0][0]']     \n",
            " tchNormalization)                                                                                \n",
            "                                                                                                  \n",
            " batch_normalization_34 (Ba  (None, 128)                  512       ['bidirectional_5[1][0]']     \n",
            " tchNormalization)                                                                                \n",
            "                                                                                                  \n",
            " concatenate_11 (Concatenat  (None, 256)                  0         ['batch_normalization_33[0][0]\n",
            " e)                                                                 ',                            \n",
            "                                                                     'batch_normalization_34[0][0]\n",
            "                                                                    ']                            \n",
            "                                                                                                  \n",
            " dropout_22 (Dropout)        (None, 256)                  0         ['concatenate_11[0][0]']      \n",
            "                                                                                                  \n",
            " dense_22 (Dense)            (None, 100)                  25700     ['dropout_22[0][0]']          \n",
            "                                                                                                  \n",
            " dropout_23 (Dropout)        (None, 100)                  0         ['dense_22[0][0]']            \n",
            "                                                                                                  \n",
            " batch_normalization_35 (Ba  (None, 100)                  400       ['dropout_23[0][0]']          \n",
            " tchNormalization)                                                                                \n",
            "                                                                                                  \n",
            " dense_23 (Dense)            (None, 2)                    202       ['batch_normalization_35[0][0]\n",
            "                                                                    ']                            \n",
            "                                                                                                  \n",
            "==================================================================================================\n",
            "Total params: 11179070 (42.64 MB)\n",
            "Trainable params: 167158 (652.96 KB)\n",
            "Non-trainable params: 11011912 (42.01 MB)\n",
            "__________________________________________________________________________________________________\n"
          ]
        },
        {
          "output_type": "stream",
          "name": "stderr",
          "text": [
            "/usr/local/lib/python3.10/dist-packages/keras/src/optimizers/legacy/rmsprop.py:144: UserWarning: The `lr` argument is deprecated, use `learning_rate` instead.\n",
            "  super().__init__(name, **kwargs)\n"
          ]
        },
        {
          "output_type": "stream",
          "name": "stdout",
          "text": [
            "Epoch 1/50\n",
            "842/842 [==============================] - 33s 30ms/step - loss: 0.6554 - accuracy: 0.6276 - val_loss: 0.6668 - val_accuracy: 0.6215 - lr: 0.0100\n",
            "Epoch 2/50\n",
            "842/842 [==============================] - 22s 27ms/step - loss: 0.6084 - accuracy: 0.6653 - val_loss: 0.6054 - val_accuracy: 0.6739 - lr: 0.0100\n",
            "Epoch 3/50\n",
            "842/842 [==============================] - 21s 25ms/step - loss: 0.5910 - accuracy: 0.6813 - val_loss: 0.6059 - val_accuracy: 0.6644 - lr: 0.0100\n",
            "Epoch 4/50\n",
            "842/842 [==============================] - 21s 24ms/step - loss: 0.5879 - accuracy: 0.6877 - val_loss: 0.5945 - val_accuracy: 0.6754 - lr: 0.0100\n",
            "Epoch 5/50\n",
            "842/842 [==============================] - 20s 24ms/step - loss: 0.5848 - accuracy: 0.6866 - val_loss: 0.5982 - val_accuracy: 0.6763 - lr: 0.0100\n",
            "Epoch 6/50\n",
            "842/842 [==============================] - 19s 23ms/step - loss: 0.5742 - accuracy: 0.6979 - val_loss: 0.5965 - val_accuracy: 0.6867 - lr: 0.0100\n",
            "Epoch 7/50\n",
            "842/842 [==============================] - 19s 22ms/step - loss: 0.5762 - accuracy: 0.6937 - val_loss: 0.6008 - val_accuracy: 0.6727 - lr: 0.0100\n",
            "Epoch 8/50\n",
            "842/842 [==============================] - 22s 26ms/step - loss: 0.5693 - accuracy: 0.7031 - val_loss: 0.5922 - val_accuracy: 0.6721 - lr: 0.0100\n",
            "Epoch 9/50\n",
            "842/842 [==============================] - 22s 26ms/step - loss: 0.5659 - accuracy: 0.7039 - val_loss: 0.5979 - val_accuracy: 0.6712 - lr: 0.0100\n",
            "Epoch 10/50\n",
            "841/842 [============================>.] - ETA: 0s - loss: 0.5663 - accuracy: 0.7048\n",
            "Epoch 10: ReduceLROnPlateau reducing learning rate to 0.004999999888241291.\n",
            "842/842 [==============================] - 22s 27ms/step - loss: 0.5663 - accuracy: 0.7048 - val_loss: 0.5919 - val_accuracy: 0.6794 - lr: 0.0100\n",
            "Epoch 11/50\n",
            "842/842 [==============================] - 22s 26ms/step - loss: 0.5466 - accuracy: 0.7208 - val_loss: 0.5951 - val_accuracy: 0.6764 - lr: 0.0050\n",
            "Epoch 12/50\n",
            "842/842 [==============================] - 22s 26ms/step - loss: 0.5295 - accuracy: 0.7355 - val_loss: 0.5956 - val_accuracy: 0.6818 - lr: 0.0050\n",
            "Epoch 13/50\n",
            "842/842 [==============================] - 22s 26ms/step - loss: 0.5148 - accuracy: 0.7446 - val_loss: 0.6048 - val_accuracy: 0.6905 - lr: 0.0050\n",
            "Epoch 14/50\n",
            "842/842 [==============================] - 22s 26ms/step - loss: 0.5121 - accuracy: 0.7461 - val_loss: 0.6055 - val_accuracy: 0.6892 - lr: 0.0050\n"
          ]
        }
      ]
    },
    {
      "cell_type": "markdown",
      "source": [
        "## Ensemble"
      ],
      "metadata": {
        "id": "pck8rX0Oa0sG"
      }
    },
    {
      "cell_type": "markdown",
      "source": [
        "### Load Models"
      ],
      "metadata": {
        "id": "Hu44WABmEfYJ"
      }
    },
    {
      "cell_type": "markdown",
      "source": [
        "After hyperparameter tuning and evaluation, the best performing models were saved on the Google Drive. If you want to run the ensemble with these models please download the models as linked in the readme from the Google Drive and adjust paths as needed. Alternatively you can train each model using the code above in **Model Training**.\n"
      ],
      "metadata": {
        "id": "vO5_NAEUDdHA"
      }
    },
    {
      "cell_type": "code",
      "source": [
        "import pickle\n",
        "# Load the models - paths need to point to where the models are saved in your Google Drive\n",
        "with open('/content/drive/MyDrive/DNN Model/model_bilstm_70','rb') as f:\n",
        "    bilstm_model = pickle.load(f)\n",
        "with open('/content/drive/MyDrive/DNN Model/model_bigru_68','rb') as f:\n",
        "    bigru_model = pickle.load(f)\n",
        "with open('/content/drive/MyDrive/DNN Model/model_lstm_68','rb') as f:\n",
        "    lstm_model = pickle.load(f)\n",
        "with open('/content/drive/MyDrive/DNN Model/model_gru_65','rb') as f:\n",
        "    gru_model = pickle.load(f)"
      ],
      "metadata": {
        "id": "Ar9CyfFrs00E"
      },
      "execution_count": 9,
      "outputs": []
    },
    {
      "cell_type": "markdown",
      "source": [
        "### Ensemble"
      ],
      "metadata": {
        "id": "TU2-eTPIEjbu"
      }
    },
    {
      "cell_type": "markdown",
      "source": [
        "Hard voting"
      ],
      "metadata": {
        "id": "pI9AEc50EaXg"
      }
    },
    {
      "cell_type": "code",
      "source": [
        "ensemble_predictions = (bilstm_model.predict([dev_premise, dev_hypothesis]) + bigru_model.predict([dev_premise, dev_hypothesis]) + lstm_model.predict([dev_premise, dev_hypothesis]) + gru_model.predict([dev_premise, dev_hypothesis]))\n",
        "predicted_labels_hard = ensemble_predictions.argmax(axis=1)"
      ],
      "metadata": {
        "colab": {
          "base_uri": "https://localhost:8080/"
        },
        "id": "ziR5UREkFqIW",
        "outputId": "4e5524b4-2842-4680-df12-80dcc45d40e6"
      },
      "execution_count": 10,
      "outputs": [
        {
          "output_type": "stream",
          "name": "stdout",
          "text": [
            "211/211 [==============================] - 28s 123ms/step\n",
            "211/211 [==============================] - 22s 93ms/step\n",
            "211/211 [==============================] - 14s 60ms/step\n",
            "211/211 [==============================] - 10s 45ms/step\n"
          ]
        }
      ]
    },
    {
      "cell_type": "markdown",
      "source": [
        "Soft Voting"
      ],
      "metadata": {
        "id": "5CGH7Sx2EbsW"
      }
    },
    {
      "cell_type": "code",
      "source": [
        "accuracies = [0.7006085794864183, 0.6805699866409382, 0.6827964969571025,  0.654890900994508]\n",
        "\n",
        "# Normalize accuracies to sum up to 1\n",
        "weights = [accuracy / sum(accuracies) for accuracy in accuracies]\n",
        "\n",
        "# Aggregate predictions using weighted soft voting\n",
        "ensemble_predictions = (bilstm_model.predict([dev_premise, dev_hypothesis]) * weights[0] + bigru_model.predict([dev_premise, dev_hypothesis]) * weights[1] +\n",
        "                  lstm_model.predict([dev_premise, dev_hypothesis]) * weights[2] + gru_model.predict([dev_premise, dev_hypothesis]) * weights[3])\n",
        "predicted_labels_soft = ensemble_predictions.argmax(axis=1)"
      ],
      "metadata": {
        "colab": {
          "base_uri": "https://localhost:8080/"
        },
        "id": "7dtJpg9XGuLL",
        "outputId": "5c2f6949-8561-4fd7-ac82-ceefd05dbc54"
      },
      "execution_count": 11,
      "outputs": [
        {
          "output_type": "stream",
          "name": "stdout",
          "text": [
            "211/211 [==============================] - 25s 116ms/step\n",
            "211/211 [==============================] - 22s 104ms/step\n",
            "211/211 [==============================] - 13s 60ms/step\n",
            "211/211 [==============================] - 9s 45ms/step\n"
          ]
        }
      ]
    },
    {
      "cell_type": "markdown",
      "source": [
        "### Writing to dataframe"
      ],
      "metadata": {
        "id": "YNR3x234a764"
      }
    },
    {
      "cell_type": "code",
      "source": [
        "result_df = pd.DataFrame({'prediction': predicted_labels_soft})\n",
        "column_name_row = pd.DataFrame({'prediction': ['prediction']}, index=[0])\n",
        "result_df['prediction'] = result_df['prediction'].astype(int)\n",
        "result_df = pd.concat([column_name_row, result_df]).reset_index(drop=True)\n",
        "result_df"
      ],
      "metadata": {
        "colab": {
          "base_uri": "https://localhost:8080/",
          "height": 424
        },
        "id": "fLZvnwWwJDm-",
        "outputId": "55ea4591-bfec-4926-e407-cc5a3a9040a2"
      },
      "execution_count": null,
      "outputs": [
        {
          "output_type": "execute_result",
          "data": {
            "text/plain": [
              "      prediction\n",
              "0     prediction\n",
              "1              1\n",
              "2              0\n",
              "3              1\n",
              "4              0\n",
              "...          ...\n",
              "6733           0\n",
              "6734           1\n",
              "6735           1\n",
              "6736           0\n",
              "6737           1\n",
              "\n",
              "[6738 rows x 1 columns]"
            ],
            "text/html": [
              "\n",
              "  <div id=\"df-c6d09f30-5bb9-440a-bf3e-7edbf25ef0d8\" class=\"colab-df-container\">\n",
              "    <div>\n",
              "<style scoped>\n",
              "    .dataframe tbody tr th:only-of-type {\n",
              "        vertical-align: middle;\n",
              "    }\n",
              "\n",
              "    .dataframe tbody tr th {\n",
              "        vertical-align: top;\n",
              "    }\n",
              "\n",
              "    .dataframe thead th {\n",
              "        text-align: right;\n",
              "    }\n",
              "</style>\n",
              "<table border=\"1\" class=\"dataframe\">\n",
              "  <thead>\n",
              "    <tr style=\"text-align: right;\">\n",
              "      <th></th>\n",
              "      <th>prediction</th>\n",
              "    </tr>\n",
              "  </thead>\n",
              "  <tbody>\n",
              "    <tr>\n",
              "      <th>0</th>\n",
              "      <td>prediction</td>\n",
              "    </tr>\n",
              "    <tr>\n",
              "      <th>1</th>\n",
              "      <td>1</td>\n",
              "    </tr>\n",
              "    <tr>\n",
              "      <th>2</th>\n",
              "      <td>0</td>\n",
              "    </tr>\n",
              "    <tr>\n",
              "      <th>3</th>\n",
              "      <td>1</td>\n",
              "    </tr>\n",
              "    <tr>\n",
              "      <th>4</th>\n",
              "      <td>0</td>\n",
              "    </tr>\n",
              "    <tr>\n",
              "      <th>...</th>\n",
              "      <td>...</td>\n",
              "    </tr>\n",
              "    <tr>\n",
              "      <th>6733</th>\n",
              "      <td>0</td>\n",
              "    </tr>\n",
              "    <tr>\n",
              "      <th>6734</th>\n",
              "      <td>1</td>\n",
              "    </tr>\n",
              "    <tr>\n",
              "      <th>6735</th>\n",
              "      <td>1</td>\n",
              "    </tr>\n",
              "    <tr>\n",
              "      <th>6736</th>\n",
              "      <td>0</td>\n",
              "    </tr>\n",
              "    <tr>\n",
              "      <th>6737</th>\n",
              "      <td>1</td>\n",
              "    </tr>\n",
              "  </tbody>\n",
              "</table>\n",
              "<p>6738 rows × 1 columns</p>\n",
              "</div>\n",
              "    <div class=\"colab-df-buttons\">\n",
              "\n",
              "  <div class=\"colab-df-container\">\n",
              "    <button class=\"colab-df-convert\" onclick=\"convertToInteractive('df-c6d09f30-5bb9-440a-bf3e-7edbf25ef0d8')\"\n",
              "            title=\"Convert this dataframe to an interactive table.\"\n",
              "            style=\"display:none;\">\n",
              "\n",
              "  <svg xmlns=\"http://www.w3.org/2000/svg\" height=\"24px\" viewBox=\"0 -960 960 960\">\n",
              "    <path d=\"M120-120v-720h720v720H120Zm60-500h600v-160H180v160Zm220 220h160v-160H400v160Zm0 220h160v-160H400v160ZM180-400h160v-160H180v160Zm440 0h160v-160H620v160ZM180-180h160v-160H180v160Zm440 0h160v-160H620v160Z\"/>\n",
              "  </svg>\n",
              "    </button>\n",
              "\n",
              "  <style>\n",
              "    .colab-df-container {\n",
              "      display:flex;\n",
              "      gap: 12px;\n",
              "    }\n",
              "\n",
              "    .colab-df-convert {\n",
              "      background-color: #E8F0FE;\n",
              "      border: none;\n",
              "      border-radius: 50%;\n",
              "      cursor: pointer;\n",
              "      display: none;\n",
              "      fill: #1967D2;\n",
              "      height: 32px;\n",
              "      padding: 0 0 0 0;\n",
              "      width: 32px;\n",
              "    }\n",
              "\n",
              "    .colab-df-convert:hover {\n",
              "      background-color: #E2EBFA;\n",
              "      box-shadow: 0px 1px 2px rgba(60, 64, 67, 0.3), 0px 1px 3px 1px rgba(60, 64, 67, 0.15);\n",
              "      fill: #174EA6;\n",
              "    }\n",
              "\n",
              "    .colab-df-buttons div {\n",
              "      margin-bottom: 4px;\n",
              "    }\n",
              "\n",
              "    [theme=dark] .colab-df-convert {\n",
              "      background-color: #3B4455;\n",
              "      fill: #D2E3FC;\n",
              "    }\n",
              "\n",
              "    [theme=dark] .colab-df-convert:hover {\n",
              "      background-color: #434B5C;\n",
              "      box-shadow: 0px 1px 3px 1px rgba(0, 0, 0, 0.15);\n",
              "      filter: drop-shadow(0px 1px 2px rgba(0, 0, 0, 0.3));\n",
              "      fill: #FFFFFF;\n",
              "    }\n",
              "  </style>\n",
              "\n",
              "    <script>\n",
              "      const buttonEl =\n",
              "        document.querySelector('#df-c6d09f30-5bb9-440a-bf3e-7edbf25ef0d8 button.colab-df-convert');\n",
              "      buttonEl.style.display =\n",
              "        google.colab.kernel.accessAllowed ? 'block' : 'none';\n",
              "\n",
              "      async function convertToInteractive(key) {\n",
              "        const element = document.querySelector('#df-c6d09f30-5bb9-440a-bf3e-7edbf25ef0d8');\n",
              "        const dataTable =\n",
              "          await google.colab.kernel.invokeFunction('convertToInteractive',\n",
              "                                                    [key], {});\n",
              "        if (!dataTable) return;\n",
              "\n",
              "        const docLinkHtml = 'Like what you see? Visit the ' +\n",
              "          '<a target=\"_blank\" href=https://colab.research.google.com/notebooks/data_table.ipynb>data table notebook</a>'\n",
              "          + ' to learn more about interactive tables.';\n",
              "        element.innerHTML = '';\n",
              "        dataTable['output_type'] = 'display_data';\n",
              "        await google.colab.output.renderOutput(dataTable, element);\n",
              "        const docLink = document.createElement('div');\n",
              "        docLink.innerHTML = docLinkHtml;\n",
              "        element.appendChild(docLink);\n",
              "      }\n",
              "    </script>\n",
              "  </div>\n",
              "\n",
              "\n",
              "<div id=\"df-f101e3d9-7ab8-42fb-b964-c44ffb2d1ba0\">\n",
              "  <button class=\"colab-df-quickchart\" onclick=\"quickchart('df-f101e3d9-7ab8-42fb-b964-c44ffb2d1ba0')\"\n",
              "            title=\"Suggest charts\"\n",
              "            style=\"display:none;\">\n",
              "\n",
              "<svg xmlns=\"http://www.w3.org/2000/svg\" height=\"24px\"viewBox=\"0 0 24 24\"\n",
              "     width=\"24px\">\n",
              "    <g>\n",
              "        <path d=\"M19 3H5c-1.1 0-2 .9-2 2v14c0 1.1.9 2 2 2h14c1.1 0 2-.9 2-2V5c0-1.1-.9-2-2-2zM9 17H7v-7h2v7zm4 0h-2V7h2v10zm4 0h-2v-4h2v4z\"/>\n",
              "    </g>\n",
              "</svg>\n",
              "  </button>\n",
              "\n",
              "<style>\n",
              "  .colab-df-quickchart {\n",
              "      --bg-color: #E8F0FE;\n",
              "      --fill-color: #1967D2;\n",
              "      --hover-bg-color: #E2EBFA;\n",
              "      --hover-fill-color: #174EA6;\n",
              "      --disabled-fill-color: #AAA;\n",
              "      --disabled-bg-color: #DDD;\n",
              "  }\n",
              "\n",
              "  [theme=dark] .colab-df-quickchart {\n",
              "      --bg-color: #3B4455;\n",
              "      --fill-color: #D2E3FC;\n",
              "      --hover-bg-color: #434B5C;\n",
              "      --hover-fill-color: #FFFFFF;\n",
              "      --disabled-bg-color: #3B4455;\n",
              "      --disabled-fill-color: #666;\n",
              "  }\n",
              "\n",
              "  .colab-df-quickchart {\n",
              "    background-color: var(--bg-color);\n",
              "    border: none;\n",
              "    border-radius: 50%;\n",
              "    cursor: pointer;\n",
              "    display: none;\n",
              "    fill: var(--fill-color);\n",
              "    height: 32px;\n",
              "    padding: 0;\n",
              "    width: 32px;\n",
              "  }\n",
              "\n",
              "  .colab-df-quickchart:hover {\n",
              "    background-color: var(--hover-bg-color);\n",
              "    box-shadow: 0 1px 2px rgba(60, 64, 67, 0.3), 0 1px 3px 1px rgba(60, 64, 67, 0.15);\n",
              "    fill: var(--button-hover-fill-color);\n",
              "  }\n",
              "\n",
              "  .colab-df-quickchart-complete:disabled,\n",
              "  .colab-df-quickchart-complete:disabled:hover {\n",
              "    background-color: var(--disabled-bg-color);\n",
              "    fill: var(--disabled-fill-color);\n",
              "    box-shadow: none;\n",
              "  }\n",
              "\n",
              "  .colab-df-spinner {\n",
              "    border: 2px solid var(--fill-color);\n",
              "    border-color: transparent;\n",
              "    border-bottom-color: var(--fill-color);\n",
              "    animation:\n",
              "      spin 1s steps(1) infinite;\n",
              "  }\n",
              "\n",
              "  @keyframes spin {\n",
              "    0% {\n",
              "      border-color: transparent;\n",
              "      border-bottom-color: var(--fill-color);\n",
              "      border-left-color: var(--fill-color);\n",
              "    }\n",
              "    20% {\n",
              "      border-color: transparent;\n",
              "      border-left-color: var(--fill-color);\n",
              "      border-top-color: var(--fill-color);\n",
              "    }\n",
              "    30% {\n",
              "      border-color: transparent;\n",
              "      border-left-color: var(--fill-color);\n",
              "      border-top-color: var(--fill-color);\n",
              "      border-right-color: var(--fill-color);\n",
              "    }\n",
              "    40% {\n",
              "      border-color: transparent;\n",
              "      border-right-color: var(--fill-color);\n",
              "      border-top-color: var(--fill-color);\n",
              "    }\n",
              "    60% {\n",
              "      border-color: transparent;\n",
              "      border-right-color: var(--fill-color);\n",
              "    }\n",
              "    80% {\n",
              "      border-color: transparent;\n",
              "      border-right-color: var(--fill-color);\n",
              "      border-bottom-color: var(--fill-color);\n",
              "    }\n",
              "    90% {\n",
              "      border-color: transparent;\n",
              "      border-bottom-color: var(--fill-color);\n",
              "    }\n",
              "  }\n",
              "</style>\n",
              "\n",
              "  <script>\n",
              "    async function quickchart(key) {\n",
              "      const quickchartButtonEl =\n",
              "        document.querySelector('#' + key + ' button');\n",
              "      quickchartButtonEl.disabled = true;  // To prevent multiple clicks.\n",
              "      quickchartButtonEl.classList.add('colab-df-spinner');\n",
              "      try {\n",
              "        const charts = await google.colab.kernel.invokeFunction(\n",
              "            'suggestCharts', [key], {});\n",
              "      } catch (error) {\n",
              "        console.error('Error during call to suggestCharts:', error);\n",
              "      }\n",
              "      quickchartButtonEl.classList.remove('colab-df-spinner');\n",
              "      quickchartButtonEl.classList.add('colab-df-quickchart-complete');\n",
              "    }\n",
              "    (() => {\n",
              "      let quickchartButtonEl =\n",
              "        document.querySelector('#df-f101e3d9-7ab8-42fb-b964-c44ffb2d1ba0 button');\n",
              "      quickchartButtonEl.style.display =\n",
              "        google.colab.kernel.accessAllowed ? 'block' : 'none';\n",
              "    })();\n",
              "  </script>\n",
              "</div>\n",
              "    </div>\n",
              "  </div>\n"
            ],
            "application/vnd.google.colaboratory.intrinsic+json": {
              "type": "dataframe",
              "variable_name": "result_df",
              "summary": "{\n  \"name\": \"result_df\",\n  \"rows\": 6738,\n  \"fields\": [\n    {\n      \"column\": \"prediction\",\n      \"properties\": {\n        \"dtype\": \"category\",\n        \"num_unique_values\": 3,\n        \"samples\": [\n          \"prediction\",\n          1,\n          0\n        ],\n        \"semantic_type\": \"\",\n        \"description\": \"\"\n      }\n    }\n  ]\n}"
            }
          },
          "metadata": {},
          "execution_count": 77
        }
      ]
    },
    {
      "cell_type": "code",
      "source": [
        "result_df.to_csv('ensemble-dnn.csv', encoding='utf-8', index=False, header=False)"
      ],
      "metadata": {
        "id": "KY3TnbV7JVH3"
      },
      "execution_count": null,
      "outputs": []
    },
    {
      "cell_type": "markdown",
      "source": [
        "## Evaluation"
      ],
      "metadata": {
        "id": "vfX5AzKe8ndD"
      }
    },
    {
      "cell_type": "code",
      "source": [
        "# Evaluation function to measure model performance on the same metrics as in EvalAI\n",
        "from sklearn.metrics import f1_score, recall_score, precision_score, classification_report, accuracy_score, confusion_matrix\n",
        "import seaborn as sns\n",
        "# Evaluation function to measure model performance on the same metrics as in EvalAI\n",
        "def evaluate(actual, predicted):\n",
        "  accuracy = accuracy_score(actual, predicted)\n",
        "  print(f\"Accuracy: {accuracy}\")\n",
        "  report = classification_report(actual,predicted)\n",
        "  print(f\"Classification report: {report}\")\n",
        "  f1_macro = f1_score(actual,predicted,average='macro')\n",
        "  print(f\"F1 score - macro:, {f1_macro}\")\n",
        "  precision_macro = precision_score(actual,predicted,average='macro')\n",
        "  print(f\"Precision - macro: {precision_macro}\")\n",
        "  recall_macro = recall_score(actual,predicted,average='macro')\n",
        "  print(f\"Recall - macro: {recall_macro}\")\n",
        "  f1_weighted = f1_score(actual, predicted, average='weighted')\n",
        "  print(f\"F1 score (weighted): {f1_weighted}\")\n",
        "  precision_weighted = precision_score(actual, predicted, average='weighted')\n",
        "  print(f\"Precision (weighted): {precision_weighted}\")\n",
        "  recall_weighted = recall_score(actual, predicted, average='weighted')\n",
        "  print(f\"Recall (weighted): {recall_weighted}\")\n",
        "  labels =[0,1]\n",
        "  cm = confusion_matrix(actual, predicted)\n",
        "  plt.figure(figsize=(10, 8))\n",
        "  sns.heatmap(cm, annot=True, cmap=\"Blues\", fmt='g', xticklabels=labels, yticklabels=labels)\n",
        "  plt.xlabel('Predicted')\n",
        "  plt.ylabel('True')\n",
        "  plt.title('Confusion Matrix')\n",
        "  plt.show()"
      ],
      "metadata": {
        "id": "NLx-E0ZOUyRl"
      },
      "execution_count": 12,
      "outputs": []
    },
    {
      "cell_type": "markdown",
      "source": [
        "### Evaluating LSTM Model"
      ],
      "metadata": {
        "id": "Y4g54GsExGaE"
      }
    },
    {
      "cell_type": "code",
      "source": [
        "predictions = lstm_model.predict(x=[dev_premise, dev_hypothesis], batch_size=32)\n",
        "predicted_labels = predictions.argmax(axis=1)\n",
        "lstm_acc = accuracy_score(np.array(dev_df['label']), predicted_labels)\n",
        "evaluate(np.array(dev_df['label']), predicted_labels)"
      ],
      "metadata": {
        "colab": {
          "base_uri": "https://localhost:8080/",
          "height": 1000
        },
        "id": "uKzV8PgeUp6n",
        "outputId": "b6634077-a9e1-419e-9f4c-869dd3848673"
      },
      "execution_count": 13,
      "outputs": [
        {
          "output_type": "stream",
          "name": "stdout",
          "text": [
            "211/211 [==============================] - 11s 54ms/step\n",
            "Accuracy: 0.6827964969571025\n",
            "Classification report:               precision    recall  f1-score   support\n",
            "\n",
            "           0       0.67      0.66      0.67      3259\n",
            "           1       0.69      0.70      0.69      3478\n",
            "\n",
            "    accuracy                           0.68      6737\n",
            "   macro avg       0.68      0.68      0.68      6737\n",
            "weighted avg       0.68      0.68      0.68      6737\n",
            "\n",
            "F1 score - macro:, 0.6822937351574836\n",
            "Precision - macro: 0.6824356300793081\n",
            "Recall - macro: 0.6822242682315933\n",
            "F1 score (weighted): 0.6827045740907544\n",
            "Precision (weighted): 0.682684935587942\n",
            "Recall (weighted): 0.6827964969571025\n"
          ]
        },
        {
          "output_type": "display_data",
          "data": {
            "text/plain": [
              "<Figure size 1000x800 with 2 Axes>"
            ],
            "image/png": "[encoded data removed]"
          },
          "metadata": {}
        }
      ]
    },
    {
      "cell_type": "markdown",
      "source": [
        "### Evaluating GRU Model"
      ],
      "metadata": {
        "id": "lTI2csE9xJm-"
      }
    },
    {
      "cell_type": "code",
      "source": [
        "predictions = gru_model.predict(x=[dev_premise, dev_hypothesis], batch_size=32)\n",
        "predicted_labels = predictions.argmax(axis=1)\n",
        "gru_acc = accuracy_score(np.array(dev_df['label']), predicted_labels)\n",
        "evaluate(np.array(dev_df['label']), predicted_labels)"
      ],
      "metadata": {
        "colab": {
          "base_uri": "https://localhost:8080/",
          "height": 1000
        },
        "outputId": "b8c29b33-a1d6-46ef-a8a6-125368742e96",
        "id": "m6vsvfksWyxW"
      },
      "execution_count": 14,
      "outputs": [
        {
          "output_type": "stream",
          "name": "stdout",
          "text": [
            "211/211 [==============================] - 10s 48ms/step\n",
            "Accuracy: 0.654890900994508\n",
            "Classification report:               precision    recall  f1-score   support\n",
            "\n",
            "           0       0.81      0.37      0.51      3259\n",
            "           1       0.61      0.92      0.73      3478\n",
            "\n",
            "    accuracy                           0.65      6737\n",
            "   macro avg       0.71      0.65      0.62      6737\n",
            "weighted avg       0.71      0.65      0.63      6737\n",
            "\n",
            "F1 score - macro:, 0.6219738011501139\n",
            "Precision - macro: 0.7116475633887309\n",
            "Recall - macro: 0.6459811119770773\n",
            "F1 score (weighted): 0.6255999806601351\n",
            "Precision (weighted): 0.7083391500098821\n",
            "Recall (weighted): 0.654890900994508\n"
          ]
        },
        {
          "output_type": "display_data",
          "data": {
            "text/plain": [
              "<Figure size 1000x800 with 2 Axes>"
            ],
            "image/png": "[encoded data removed]"
          },
          "metadata": {}
        }
      ]
    },
    {
      "cell_type": "markdown",
      "source": [
        "### Evaluating BiLSTM Model"
      ],
      "metadata": {
        "id": "TPNNAYWjxM0v"
      }
    },
    {
      "cell_type": "code",
      "source": [
        "predictions = bilstm_model.predict(x=[dev_premise, dev_hypothesis], batch_size=32)\n",
        "predicted_labels = predictions.argmax(axis=1)\n",
        "bilstm_acc = accuracy_score(np.array(dev_df['label']), predicted_labels)\n",
        "evaluate(np.array(dev_df['label']), predicted_labels)"
      ],
      "metadata": {
        "colab": {
          "base_uri": "https://localhost:8080/",
          "height": 1000
        },
        "id": "biwiKVl7XOjW",
        "outputId": "12c6fcb5-6956-4fef-f1a0-93078ae63c3e"
      },
      "execution_count": 15,
      "outputs": [
        {
          "output_type": "stream",
          "name": "stdout",
          "text": [
            "211/211 [==============================] - 27s 129ms/step\n",
            "Accuracy: 0.7006085794864183\n",
            "Classification report:               precision    recall  f1-score   support\n",
            "\n",
            "           0       0.69      0.70      0.69      3259\n",
            "           1       0.71      0.70      0.71      3478\n",
            "\n",
            "    accuracy                           0.70      6737\n",
            "   macro avg       0.70      0.70      0.70      6737\n",
            "weighted avg       0.70      0.70      0.70      6737\n",
            "\n",
            "F1 score - macro:, 0.7004600871219848\n",
            "Precision - macro: 0.700442135989011\n",
            "Recall - macro: 0.7006251631038636\n",
            "F1 score (weighted): 0.7006768859740579\n",
            "Precision (weighted): 0.7008921498894085\n",
            "Recall (weighted): 0.7006085794864183\n"
          ]
        },
        {
          "output_type": "display_data",
          "data": {
            "text/plain": [
              "<Figure size 1000x800 with 2 Axes>"
            ],
            "image/png": "[encoded data removed]"
          },
          "metadata": {}
        }
      ]
    },
    {
      "cell_type": "markdown",
      "source": [
        "### Evaluating BiGRU Model"
      ],
      "metadata": {
        "id": "t8Uz7d5SxPWA"
      }
    },
    {
      "cell_type": "code",
      "source": [
        "predictions = bigru_model.predict(x=[dev_premise, dev_hypothesis], batch_size=32)\n",
        "predicted_labels = predictions.argmax(axis=1)\n",
        "bigru_acc = accuracy_score(np.array(dev_df['label']), predicted_labels)\n",
        "evaluate(np.array(dev_df['label']), predicted_labels)"
      ],
      "metadata": {
        "colab": {
          "base_uri": "https://localhost:8080/",
          "height": 1000
        },
        "outputId": "23d465a3-c1ff-44db-8370-2e1b3b31275a",
        "id": "J3wHbBcJWyxJ"
      },
      "execution_count": 16,
      "outputs": [
        {
          "output_type": "stream",
          "name": "stdout",
          "text": [
            "211/211 [==============================] - 18s 86ms/step\n",
            "Accuracy: 0.6805699866409382\n",
            "Classification report:               precision    recall  f1-score   support\n",
            "\n",
            "           0       0.73      0.53      0.62      3259\n",
            "           1       0.65      0.82      0.73      3478\n",
            "\n",
            "    accuracy                           0.68      6737\n",
            "   macro avg       0.69      0.68      0.67      6737\n",
            "weighted avg       0.69      0.68      0.67      6737\n",
            "\n",
            "F1 score - macro:, 0.671837225014174\n",
            "Precision - macro: 0.6923973941330377\n",
            "Recall - macro: 0.675981459579091\n",
            "F1 score (weighted): 0.6735774204611815\n",
            "Precision (weighted): 0.6910885501508397\n",
            "Recall (weighted): 0.6805699866409382\n"
          ]
        },
        {
          "output_type": "display_data",
          "data": {
            "text/plain": [
              "<Figure size 1000x800 with 2 Axes>"
            ],
            "image/png": "[encoded data removed]"
          },
          "metadata": {}
        }
      ]
    },
    {
      "cell_type": "code",
      "source": [
        "epochs = range(1, 6)\n",
        "\n",
        "plt.plot(epochs, history_gru['accuracy'][:5], color=\"#90EE90\")\n",
        "plt.plot(epochs, history_lstm['accuracy'][:5], color=\"#F08080\")\n",
        "plt.plot(epochs, history_bigru['accuracy'][:5], color=\"#3355FF\")\n",
        "plt.plot(epochs, history_bilstm['accuracy'][:5], color=\"#DDA0DD\")\n",
        "\n",
        "plt.ylim(0.55, 0.75)\n",
        "\n",
        "plt.title('Model Accuracy')\n",
        "plt.ylabel('Accuracy')\n",
        "plt.xlabel('Epoch')\n",
        "plt.legend(['GRU', 'LSTM', 'BiGRU', 'BiLSTM'], loc='lower right')\n",
        "plt.show()\n",
        "\n",
        "import matplotlib.pyplot as plt\n",
        "\n",
        "epochs = range(1, 6)\n",
        "\n",
        "plt.plot(epochs, history_gru['val_accuracy'][:5], color=\"#90EE90\")\n",
        "plt.plot(epochs, history_lstm['val_accuracy'][:5], color=\"#F08080\")\n",
        "plt.plot(epochs, history_bigru['val_accuracy'][:5], color=\"#3355FF\")\n",
        "plt.plot(epochs, history_bilstm['val_accuracy'][:5], color=\"#DDA0DD\")\n",
        "\n",
        "# Set y-axis limits between 0 and 1\n",
        "plt.ylim(0.35, 0.8)\n",
        "\n",
        "plt.title('Model Validation Accuracy')\n",
        "plt.ylabel('Accuracy')\n",
        "plt.xlabel('Epoch')\n",
        "plt.legend(['GRU', 'LSTM', 'BiGRU', 'BiLSTM'], loc='lower right')\n",
        "plt.show()"
      ],
      "metadata": {
        "colab": {
          "base_uri": "https://localhost:8080/",
          "height": 927
        },
        "outputId": "ff1f0ebd-b4cf-4410-ad7e-b14729aca0fd",
        "id": "-8QIcJX65rMk"
      },
      "execution_count": null,
      "outputs": [
        {
          "output_type": "display_data",
          "data": {
            "text/plain": [
              "<Figure size 640x480 with 1 Axes>"
            ],
            "image/png": "[encoded data removed]"
          },
          "metadata": {}
        },
        {
          "output_type": "display_data",
          "data": {
            "text/plain": [
              "<Figure size 640x480 with 1 Axes>"
            ],
            "image/png": "[encoded data removed]"
          },
          "metadata": {}
        }
      ]
    },
    {
      "cell_type": "markdown",
      "source": [
        "### Evaluating Ensemble Model"
      ],
      "metadata": {
        "id": "rUj4SftcxSJX"
      }
    },
    {
      "cell_type": "code",
      "source": [
        "#Hard Voting\n",
        "evaluate(np.array(dev_df['label']), predicted_labels_hard)"
      ],
      "metadata": {
        "colab": {
          "base_uri": "https://localhost:8080/",
          "height": 1000
        },
        "id": "IluLOylTxV4A",
        "outputId": "fc0ade1d-1746-4d8a-de03-070e86d12e7b"
      },
      "execution_count": 17,
      "outputs": [
        {
          "output_type": "stream",
          "name": "stdout",
          "text": [
            "Accuracy: 0.7050616001187472\n",
            "Classification report:               precision    recall  f1-score   support\n",
            "\n",
            "           0       0.75      0.58      0.66      3259\n",
            "           1       0.68      0.82      0.74      3478\n",
            "\n",
            "    accuracy                           0.71      6737\n",
            "   macro avg       0.71      0.70      0.70      6737\n",
            "weighted avg       0.71      0.71      0.70      6737\n",
            "\n",
            "F1 score - macro:, 0.6992057198828255\n",
            "Precision - macro: 0.71406664425899\n",
            "Recall - macro: 0.7012669916951351\n",
            "F1 score (weighted): 0.7005700153845987\n",
            "Precision (weighted): 0.7128793446402583\n",
            "Recall (weighted): 0.7050616001187472\n"
          ]
        },
        {
          "output_type": "display_data",
          "data": {
            "text/plain": [
              "<Figure size 1000x800 with 2 Axes>"
            ],
            "image/png": "[encoded data removed]"
          },
          "metadata": {}
        }
      ]
    },
    {
      "cell_type": "code",
      "source": [
        "#Soft Voting\n",
        "evaluate(np.array(dev_df['label']), predicted_labels_soft)"
      ],
      "metadata": {
        "colab": {
          "base_uri": "https://localhost:8080/",
          "height": 1000
        },
        "id": "WbZkP0WJxggk",
        "outputId": "ea2da94c-8f84-42a3-9cf7-52d44e104605"
      },
      "execution_count": 18,
      "outputs": [
        {
          "output_type": "stream",
          "name": "stdout",
          "text": [
            "Accuracy: 0.7066943743506011\n",
            "Classification report:               precision    recall  f1-score   support\n",
            "\n",
            "           0       0.75      0.59      0.66      3259\n",
            "           1       0.68      0.82      0.74      3478\n",
            "\n",
            "    accuracy                           0.71      6737\n",
            "   macro avg       0.72      0.70      0.70      6737\n",
            "weighted avg       0.71      0.71      0.70      6737\n",
            "\n",
            "F1 score - macro:, 0.7011822955377901\n",
            "Precision - macro: 0.7151079803798144\n",
            "Recall - macro: 0.7030222495284876\n",
            "F1 score (weighted): 0.7025015799749547\n",
            "Precision (weighted): 0.7139642313292882\n",
            "Recall (weighted): 0.7066943743506011\n"
          ]
        },
        {
          "output_type": "display_data",
          "data": {
            "text/plain": [
              "<Figure size 1000x800 with 2 Axes>"
            ],
            "image/png": "[encoded data removed]"
          },
          "metadata": {}
        }
      ]
    }
  ]
}